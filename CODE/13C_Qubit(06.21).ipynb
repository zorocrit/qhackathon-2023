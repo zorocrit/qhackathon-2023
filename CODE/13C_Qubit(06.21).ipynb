{
 "cells": [
  {
   "cell_type": "code",
   "execution_count": 1,
   "metadata": {},
   "outputs": [],
   "source": [
    "from toqito.channels import partial_trace\n",
    "from qutip import *\n",
    "from PIL import Image\n",
    "import numpy as np\n",
    "from sklearn.feature_extraction.text import CountVectorizer\n",
    "from scipy import linalg\n",
    "import math\n",
    "import matplotlib.pyplot as plt\n",
    "from scipy import optimize\n",
    "import random\n",
    "from math import *\n",
    "import pandas as pd\n",
    "import random\n",
    "from mpl_toolkits.mplot3d import Axes3D\n",
    "from sys import stdout\n",
    "from tqdm import tqdm\n",
    "from tqdm import trange\n",
    "from scipy.linalg import fractional_matrix_power"
   ]
  },
  {
   "cell_type": "code",
   "execution_count": 2,
   "metadata": {},
   "outputs": [
    {
     "name": "stdout",
     "output_type": "stream",
     "text": [
      "2023-06-22 15:33:47.240347\n"
     ]
    }
   ],
   "source": [
    "import time\n",
    "from datetime import datetime as dt \n",
    "date = dt.now()\n",
    "printdate = date.strftime('%Y%m%d_%H%M%S')\n",
    "print(date)"
   ]
  },
  {
   "cell_type": "code",
   "execution_count": 3,
   "metadata": {},
   "outputs": [],
   "source": [
    "def state_fidelity(rho_1, rho_2): #fidelity\n",
    "        if np.shape(rho_1) != np.shape(rho_2):\n",
    "            print(\"Dimensions of two states do not match.\")\n",
    "            return 0\n",
    "        else:\n",
    "            sqrt_rho_1 = fractional_matrix_power(rho_1, 1 / 2)\n",
    "            fidelity = np.trace(fractional_matrix_power(sqrt_rho_1 @ rho_2 @ sqrt_rho_1, 1 / 2)) ** 2\n",
    "            return np.real(fidelity)"
   ]
  },
  {
   "cell_type": "code",
   "execution_count": 4,
   "metadata": {},
   "outputs": [],
   "source": [
    "def UO(B1,B2,a,D1,D2):\n",
    "    i   = 1j\n",
    "    gamma = 2*pi*2.8\n",
    "    D     = 2870\n",
    "    UA = [[(B2**2+B1**2*cos(a))/(B1**2+B2**2), -i*B1*(e**(-i*D1))*sin(a)/sqrt(B1**2+B2**2), ((-1+cos(a))*B1*B2*(e**(-i*(D1-D2))))/(B1**2+B2**2)],\n",
    "            [-i*B1*(e**(i*D1))*sin(a)/sqrt(B1**2+B2**2), cos(a), -i*B2*(e**(i*D2))*sin(a)/sqrt(B1**2+B2**2)],\n",
    "            [((-1+cos(a))*B1*B2*e**(i*(D1-D2)))/(B1**2+B2**2), -i*B2*(e**(-i*D2))*sin(a)/sqrt(B1**2+B2**2), (B1**2+B2**2*cos(a))/(B1**2+B2**2)]]\n",
    "    return UA\n",
    "\n",
    "## Define dimension, pauli matrices\n",
    "i   = 1j #1j\n",
    "sx  = 1/sqrt(2)*np.array([[0, 1, 0],[1, 0, 1], [0, 1, 0]])\n",
    "sy  = 1/sqrt(2)/i*np.array([[0, 1, 0], [-1, 0, 1],[0, -1, 0]])\n",
    "sz  = np.array([[1, 0, 0], [0, 0, 0], [0, 0, -1]])\n",
    "#sz  = [1, 0, 0; 0, -1, 0; 0, 0, 0]\n",
    "I   = np.array([[1, 0, 0], [0, 1, 0], [0, 0, 1]])\n",
    "\n",
    "# Rotation matrix projected into 2 level system\n",
    "Sxp  = np.array([[0, 1, 0], [1, 0, 0], [0, 0, 0]])\n",
    "Sxm  = np.array([[0, 0, 0], [0, 0, 1], [0, 1, 0]])\n",
    "Syp  = 1/i*np.array([[0, 1, 0], [-1, 0, 0], [0, 0, 0]])\n",
    "Sym  = 1/i*np.array([[0, 0, 0], [0, 0, 1], [0, -1, 0]])\n",
    "Szp  = np.array([[1, 0, 0], [0, -1, 0], [0, 0, 0]])\n",
    "\n",
    "#Gellman matrix\n",
    "Sx  = np.array([[0, 0, 1],[0, 0, 0], [1, 0, 0]])\n",
    "Sy  = np.array([[0, 0, -i],[0, 0, 0], [i, 0, 0]])\n",
    "Sz  = np.array([[1, 0, 0],[0, 0, 0], [0, 0, -1]])\n",
    "\n",
    "# Pauli basis for 13C nuclear spin\n",
    "Ix  = 1/2*np.array([[0, 0, 1], [0, 0, 0], [1, 0, 0]])   \n",
    "Iy  = 1/2/i*np.array([[0, 0, 1], [0, 0, 0], [-1, 0, 0]])\n",
    "Iz  = np.array([[1, 0, 0], [0, 0, 0], [0, 0, -1]])\n",
    "\n",
    "\n",
    "## Define sweep parameters\n",
    "Sweep = 1001\n",
    "N = Sweep\n",
    "B = 403 #[G] magnetic field\n",
    "\n",
    "T = 5; # sweep tau [us]\n",
    "t = np.linspace(0,T,N)\n",
    "n = 32; # number of pi pulses\n",
    "\n",
    "## Define gate operations\n",
    "# Single Q ms=+1\n",
    "U090xp = UO(1,0,pi/4,0,0)\n",
    "U090xmp = UO(1,0,-pi/4,0,0)\n",
    "U090yp = UO(1,0,pi/4,pi/2,0)\n",
    "U090ymp = UO(1,0,-pi/4,pi/2,0)\n",
    "U180xp = UO(1,0,pi/2,0,0)\n",
    "U180xmp = UO(1,0,-pi/2,0,0)\n",
    "\n",
    "#Single Q ms=-1\n",
    "U090xm = UO(0,1,pi/4,0,0)\n",
    "U090xmm = UO(0,1,-pi/4,0,0)\n",
    "U180xm = UO(0,1,pi/2,0,0)\n",
    "U180xmm = UO(0,1,pi/2,0,0)\n",
    "\n",
    "# Define initial state of the system\n",
    "\n",
    "irho_p = np.array([[1,0,0],[0,0,0],[0,0,0]]) #[0,0,0;0,0,0]\n",
    "\n",
    "irho_m = np.array([[0,0,0],[0,0,0],[0,0,1]]) #[0,0,0;0,0,1]\n",
    "\n",
    "irho_z = np.array([[0,0,0],[0,1,0],[0,0,0]]) #[0,1,0;0,0,0]\n",
    "\n",
    "irho_mix = np.array([[1/2,0,0],[0,1/2,0],[0,0,0]]) #[1/2,0,0;0,1/2,0;0,0,0]\n",
    "\n",
    "irho_Z = np.array([[0,0,0],[0,0,0],[0,0,1]]) #target state\n",
    "\n",
    "irho_MIX = np.array([[1/2,0,0],[0,0,0],[0,0,1/2]])"
   ]
  },
  {
   "cell_type": "code",
   "execution_count": 5,
   "metadata": {},
   "outputs": [],
   "source": [
    "arr1 = []"
   ]
  },
  {
   "cell_type": "code",
   "execution_count": 6,
   "metadata": {},
   "outputs": [
    {
     "name": "stdout",
     "output_type": "stream",
     "text": [
      "[[0.  0.  0.  0.  0.  0.  0.  0.  0. ]\n",
      " [0.  0.  0.  0.  0.  0.  0.  0.  0. ]\n",
      " [0.  0.  0.  0.  0.  0.  0.  0.  0. ]\n",
      " [0.  0.  0.  0.5 0.  0.  0.  0.  0. ]\n",
      " [0.  0.  0.  0.  0.  0.  0.  0.  0. ]\n",
      " [0.  0.  0.  0.  0.  0.5 0.  0.  0. ]\n",
      " [0.  0.  0.  0.  0.  0.  0.  0.  0. ]\n",
      " [0.  0.  0.  0.  0.  0.  0.  0.  0. ]\n",
      " [0.  0.  0.  0.  0.  0.  0.  0.  0. ]]\n"
     ]
    }
   ],
   "source": [
    "irho = np.kron(irho_z,irho_MIX) #initial state\n",
    "print(irho)"
   ]
  },
  {
   "cell_type": "code",
   "execution_count": 7,
   "metadata": {},
   "outputs": [],
   "source": [
    "trace = [1, 1, 0, 100, 100, 1000]\n",
    "vvv = [0, 0, 0, 0]\n",
    "normalxyz = [0, 0, 0]\n",
    "\n",
    "#for making 13C nuclear random dataset\n",
    "gammaN = 2*pi*1.071e-3 #[MHz/G]\n",
    "# Al    = 2*pi * random.uniform(0.05, 0.8) #[MHz] # A_|| hyperfine term\n",
    "# Ap = 2*pi* random.uniform(0.05, 0.3) #[MHz] # A_per hyperfine term\n",
    "\n",
    "Al = 1.1876071666049706\n",
    "Ap = 1.3050296350856783\n",
    "\n",
    "#Initialization\n",
    "rho_0 = (np.kron(U090xp,I))@irho@((np.kron(U090xp,I)).conj().T) # superposition state on NV\n",
    "\n",
    "Sa= []\n",
    "\n",
    "ham = Al*np.kron(sz,Iz) + Ap*np.kron(sz,Ix) + B*gammaN*np.kron(I,Iz) # Hamiltonian\n",
    "eigvals = np.linalg.eigh(ham)[0]            # diagonalizing the Hamiltonian 여기서부터 문제 \n",
    "eigvecs = -1*np.linalg.eigh(ham)[1]         # eigenvectors\n",
    "E = np.diag(eigvals)                        # exponent of eigenvalues\n",
    "U_H= eigvecs.conj().T                       # unitary matrix formed by eigenvectors"
   ]
  },
  {
   "cell_type": "code",
   "execution_count": 8,
   "metadata": {},
   "outputs": [
    {
     "data": {
      "text/plain": [
       "array([[ 1.06242308, -1.        , -1.19742667],\n",
       "       [ 0.        ,  0.        ,  0.        ],\n",
       "       [ 0.        ,  0.        ,  0.        ]])"
      ]
     },
     "execution_count": 8,
     "metadata": {},
     "output_type": "execute_result"
    }
   ],
   "source": [
    "# udf = pd.DataFrame(U_H)\n",
    "# udf\n",
    "\n",
    "partial_trace(U_H, 1)"
   ]
  },
  {
   "cell_type": "code",
   "execution_count": 9,
   "metadata": {},
   "outputs": [
    {
     "name": "stdout",
     "output_type": "stream",
     "text": [
      "[[0.5-1.00477575e-34j 0. +0.00000000e+00j 0. +0.00000000e+00j]\n",
      " [0. +0.00000000e+00j 0. +0.00000000e+00j 0. +0.00000000e+00j]\n",
      " [0. +0.00000000e+00j 0. +0.00000000e+00j 0.5-1.00477575e-34j]]\n"
     ]
    }
   ],
   "source": [
    "rho1 = np.kron(U090yp,I)@irho@(np.kron(U090yp,I).conj().T)                              # Ry 90도\n",
    "df1 = pd.DataFrame(rho1)\n",
    "print(partial_trace(rho1, 1))"
   ]
  },
  {
   "cell_type": "code",
   "execution_count": 10,
   "metadata": {},
   "outputs": [],
   "source": [
    "vari=[1.4120767867009363,22.0,0.2633900964243493,22.0]  #초기값"
   ]
  },
  {
   "cell_type": "code",
   "execution_count": 11,
   "metadata": {},
   "outputs": [],
   "source": [
    "U_e2=(U_H.conj().T)@(linalg.expm(-i*E* vari[0]/2)@U_H)                                  # for tau/2\n",
    "U_e=(U_H.conj().T)@(linalg.expm(-i*E* vari[0])@U_H)                                     # for tau\n",
    "rho2=U_e2@rho1@(U_e2.conj().T)                                                          # first tau/2\n",
    "for k in range(1,2*math.trunc(vari[1])):                                                # N과 tau를 N개 생성\n",
    "    rho2 = U_e@np.kron(U180xp,I) @ rho2 @ (np.kron(U180xp,I).conj().T) @ (U_e.conj().T) # N & tau\n",
    "rho3 = U_e2 @ np.kron(U180xp,I) @ rho2 @ (np.kron(U180xp,I).conj().T) @ (U_e2.conj().T) # last N & tau/2"
   ]
  },
  {
   "cell_type": "code",
   "execution_count": 12,
   "metadata": {},
   "outputs": [
    {
     "name": "stdout",
     "output_type": "stream",
     "text": [
      "[[ 5.00000000e-01-2.02866410e-16j  0.00000000e+00+0.00000000e+00j\n",
      "   4.84429831e-17+7.70233606e-17j]\n",
      " [ 0.00000000e+00+0.00000000e+00j  0.00000000e+00+0.00000000e+00j\n",
      "   0.00000000e+00+0.00000000e+00j]\n",
      " [-2.47416534e-17-1.07368023e-16j  0.00000000e+00+0.00000000e+00j\n",
      "   5.00000000e-01-9.44539817e-17j]]\n"
     ]
    }
   ],
   "source": [
    "# df2 = pd.DataFrame(rho2)\n",
    "# df2 = pd.DataFrame(rho3)\n",
    "# df2\n",
    "print(partial_trace(rho3, 1))"
   ]
  },
  {
   "cell_type": "code",
   "execution_count": 13,
   "metadata": {},
   "outputs": [
    {
     "name": "stdout",
     "output_type": "stream",
     "text": [
      "[[ 5.00000000e-01-2.02817836e-16j  0.00000000e+00+0.00000000e+00j\n",
      "   2.77555756e-17+7.80625564e-17j]\n",
      " [ 0.00000000e+00+0.00000000e+00j  0.00000000e+00+0.00000000e+00j\n",
      "   0.00000000e+00+0.00000000e+00j]\n",
      " [-2.77555756e-17-1.07552856e-16j  0.00000000e+00+0.00000000e+00j\n",
      "   5.00000000e-01-9.46401797e-17j]]\n"
     ]
    }
   ],
   "source": [
    "#for e Rx(pi/2)\n",
    "rho4 = np.kron(U090xp,I)@rho3@(np.kron(U090xp,I).conj().T)                              # Rx 90도\n",
    "df4 = pd.DataFrame(rho4)\n",
    "print(partial_trace(rho4, 1))"
   ]
  },
  {
   "cell_type": "code",
   "execution_count": 14,
   "metadata": {},
   "outputs": [
    {
     "name": "stdout",
     "output_type": "stream",
     "text": [
      "[[0.52123879-2.10902395e-16j 0.        +0.00000000e+00j\n",
      "  0.00384311+1.81195639e-03j]\n",
      " [0.        +0.00000000e+00j 0.        +0.00000000e+00j\n",
      "  0.        +0.00000000e+00j]\n",
      " [0.00384311-1.81195639e-03j 0.        +0.00000000e+00j\n",
      "  0.47876121+6.19555525e-17j]]\n"
     ]
    }
   ],
   "source": [
    "U_e2=(U_H.conj().T)@(linalg.expm(-i*E*vari[2]/2)@U_H)                                   # for tau/2\n",
    "U_e=(U_H.conj().T)@(linalg.expm(-i*E*vari[2])@U_H)                                      # for tau/2\n",
    "rho5=U_e2@rho4@(U_e2.conj().T)                                                          # first tau/2\n",
    "for k in range(1,2*math.trunc(vari[3])):                                                # N과 tau를 N개 생성\n",
    "    rho5 = U_e@np.kron(U180xp,I) @ rho5 @ (np.kron(U180xp,I).conj().T) @ (U_e.conj().T) # N & tau\n",
    "rho6 = U_e2 @ np.kron(U180xp,I) @ rho5 @ (np.kron(U180xp,I).conj().T) @ (U_e2.conj().T) # last N & tau/2\n",
    "\n",
    "# df6 = pd.DataFrame(rho6)\n",
    "# print(df6)\n",
    "print(partial_trace(rho6, 1))"
   ]
  },
  {
   "cell_type": "code",
   "execution_count": 15,
   "metadata": {},
   "outputs": [],
   "source": [
    "# state_fidelity(partial_trace(rho3, 1), partial_trace(rho6, 1))"
   ]
  },
  {
   "cell_type": "code",
   "execution_count": 16,
   "metadata": {},
   "outputs": [],
   "source": [
    "rho6 = rho3"
   ]
  },
  {
   "cell_type": "code",
   "execution_count": 24,
   "metadata": {},
   "outputs": [
    {
     "name": "stdout",
     "output_type": "stream",
     "text": [
      "                            0         1                           2  \\\n",
      "0  2.500000e-01+9.745501e-17j  0.0+0.0j -5.671416e-16+1.651642e-17j   \n",
      "1  0.000000e+00+0.000000e+00j  0.0+0.0j  0.000000e+00+0.000000e+00j   \n",
      "2 -5.587475e-16-9.456020e-17j  0.0+0.0j  2.500000e-01-4.705594e-17j   \n",
      "3  2.492922e-01-1.698160e-04j  0.0+0.0j -1.656706e-02+8.882816e-03j   \n",
      "4  0.000000e+00+0.000000e+00j  0.0+0.0j  0.000000e+00+0.000000e+00j   \n",
      "5  1.656706e-02+8.882816e-03j  0.0+0.0j  2.492922e-01+1.698160e-04j   \n",
      "6  0.000000e+00+0.000000e+00j  0.0+0.0j  0.000000e+00+0.000000e+00j   \n",
      "7  0.000000e+00+0.000000e+00j  0.0+0.0j  0.000000e+00+0.000000e+00j   \n",
      "8  0.000000e+00+0.000000e+00j  0.0+0.0j  0.000000e+00+0.000000e+00j   \n",
      "\n",
      "                            3         4                           5         6  \\\n",
      "0  2.492922e-01+1.698160e-04j  0.0+0.0j  1.656706e-02-8.882816e-03j  0.0+0.0j   \n",
      "1  0.000000e+00+0.000000e+00j  0.0+0.0j  0.000000e+00+0.000000e+00j  0.0+0.0j   \n",
      "2 -1.656706e-02-8.882816e-03j  0.0+0.0j  2.492922e-01-1.698160e-04j  0.0+0.0j   \n",
      "3  2.500000e-01-2.096409e-16j  0.0+0.0j  5.875939e-16-2.435626e-16j  0.0+0.0j   \n",
      "4  0.000000e+00+0.000000e+00j  0.0+0.0j  0.000000e+00+0.000000e+00j  0.0+0.0j   \n",
      "5  6.264324e-16+2.825575e-16j  0.0+0.0j  2.500000e-01-1.537827e-16j  0.0+0.0j   \n",
      "6  0.000000e+00+0.000000e+00j  0.0+0.0j  0.000000e+00+0.000000e+00j  0.0+0.0j   \n",
      "7  0.000000e+00+0.000000e+00j  0.0+0.0j  0.000000e+00+0.000000e+00j  0.0+0.0j   \n",
      "8  0.000000e+00+0.000000e+00j  0.0+0.0j  0.000000e+00+0.000000e+00j  0.0+0.0j   \n",
      "\n",
      "          7         8  \n",
      "0  0.0+0.0j  0.0+0.0j  \n",
      "1  0.0+0.0j  0.0+0.0j  \n",
      "2  0.0+0.0j  0.0+0.0j  \n",
      "3  0.0+0.0j  0.0+0.0j  \n",
      "4  0.0+0.0j  0.0+0.0j  \n",
      "5  0.0+0.0j  0.0+0.0j  \n",
      "6  0.0+0.0j  0.0+0.0j  \n",
      "7  0.0+0.0j  0.0+0.0j  \n",
      "8  0.0+0.0j  0.0+0.0j  \n",
      "[[5.00000000e-01-1.12185880e-16j 0.00000000e+00+0.00000000e+00j\n",
      "  2.04523113e-17-2.27046219e-16j]\n",
      " [0.00000000e+00+0.00000000e+00j 0.00000000e+00+0.00000000e+00j\n",
      "  0.00000000e+00+0.00000000e+00j]\n",
      " [6.76849057e-17+1.87997329e-16j 0.00000000e+00+0.00000000e+00j\n",
      "  5.00000000e-01-2.00838646e-16j]]\n"
     ]
    }
   ],
   "source": [
    "U_e2=(U_H.conj().T)@(linalg.expm(-i*E* vari[0]/2)@U_H)                                  # for tau/2\n",
    "U_e=(U_H.conj().T)@(linalg.expm(-i*E* vari[0])@U_H)                                     # for tau\n",
    "rho7=U_e2@rho6@(U_e2.conj().T)                                                          # first tau/2\n",
    "for k in range(1,2*math.trunc(vari[1])):                                                # N과 tau를 N개 생성\n",
    "    rho7 = U_e@np.kron(U180xp,I) @ rho7 @ (np.kron(U180xp,I).conj().T) @ (U_e.conj().T) # N & tau\n",
    "rho8 = U_e2 @ np.kron(U180xp,I) @ rho7 @ (np.kron(U180xp,I).conj().T) @ (U_e2.conj().T) # last N & tau/2\n",
    "\n",
    "df8 = pd.DataFrame(rho8)\n",
    "print(df8)\n",
    "print(partial_trace(rho8, 1))"
   ]
  },
  {
   "cell_type": "code",
   "execution_count": 23,
   "metadata": {},
   "outputs": [
    {
     "data": {
      "text/plain": [
       "array([[0, 0, 0],\n",
       "       [0, 0, 0],\n",
       "       [0, 0, 1]])"
      ]
     },
     "execution_count": 23,
     "metadata": {},
     "output_type": "execute_result"
    }
   ],
   "source": [
    "irho_Z"
   ]
  },
  {
   "cell_type": "code",
   "execution_count": 19,
   "metadata": {},
   "outputs": [],
   "source": [
    "# df8.to_csv('C:/Users/Administrator/git_zorocrit/qhackathon-2023/matrix/' + printdate + '_compare.csv',index=False)"
   ]
  },
  {
   "cell_type": "code",
   "execution_count": 20,
   "metadata": {},
   "outputs": [
    {
     "data": {
      "text/plain": [
       "0.500000000000013"
      ]
     },
     "execution_count": 20,
     "metadata": {},
     "output_type": "execute_result"
    }
   ],
   "source": [
    "state_fidelity(partial_trace(rho8, 1), irho_Z)"
   ]
  },
  {
   "cell_type": "code",
   "execution_count": null,
   "metadata": {},
   "outputs": [],
   "source": []
  }
 ],
 "metadata": {
  "kernelspec": {
   "display_name": "Python 3",
   "language": "python",
   "name": "python3"
  },
  "language_info": {
   "codemirror_mode": {
    "name": "ipython",
    "version": 3
   },
   "file_extension": ".py",
   "mimetype": "text/x-python",
   "name": "python",
   "nbconvert_exporter": "python",
   "pygments_lexer": "ipython3",
   "version": "3.11.1"
  },
  "orig_nbformat": 4
 },
 "nbformat": 4,
 "nbformat_minor": 2
}
