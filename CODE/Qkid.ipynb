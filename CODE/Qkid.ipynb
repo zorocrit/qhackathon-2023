{
 "cells": [
  {
   "cell_type": "code",
   "execution_count": 73,
   "metadata": {},
   "outputs": [],
   "source": [
    "from toqito.channels import partial_trace\n",
    "from qutip import *\n",
    "from PIL import Image\n",
    "import numpy as np\n",
    "from sklearn.feature_extraction.text import CountVectorizer\n",
    "from scipy import linalg\n",
    "import math\n",
    "import matplotlib.pyplot as plt\n",
    "from scipy import optimize\n",
    "import random\n",
    "from math import *\n",
    "import pandas as pd\n",
    "import time\n",
    "from datetime import datetime as dt \n",
    "import random\n",
    "from mpl_toolkits.mplot3d import Axes3D\n",
    "from sys import stdout\n",
    "from tqdm import tqdm\n",
    "from tqdm import trange\n",
    "from scipy.linalg import fractional_matrix_power"
   ]
  },
  {
   "cell_type": "code",
   "execution_count": 74,
   "metadata": {},
   "outputs": [],
   "source": [
    "#Generating gate function\n",
    "def UO(B1,B2,a,D1,D2):\n",
    "    i   = 1j\n",
    "    gamma = 2*pi*2.8\n",
    "    D     = 2870\n",
    "    UA = [[(B2**2+B1**2*cos(a))/(B1**2+B2**2), -i*B1*(e**(-i*D1))*sin(a)/sqrt(B1**2+B2**2), ((-1+cos(a))*B1*B2*(e**(-i*(D1-D2))))/(B1**2+B2**2)],\n",
    "            [-i*B1*(e**(i*D1))*sin(a)/sqrt(B1**2+B2**2), cos(a), -i*B2*(e**(i*D2))*sin(a)/sqrt(B1**2+B2**2)],\n",
    "            [((-1+cos(a))*B1*B2*e**(i*(D1-D2)))/(B1**2+B2**2), -i*B2*(e**(-i*D2))*sin(a)/sqrt(B1**2+B2**2), (B1**2+B2**2*cos(a))/(B1**2+B2**2)]]\n",
    "    return UA"
   ]
  },
  {
   "cell_type": "code",
   "execution_count": 75,
   "metadata": {},
   "outputs": [],
   "source": [
    "## Define dimension, pauli matrices\n",
    "i   = 1j #1j\n",
    "sx  = 1/sqrt(2)*np.array([[0, 1, 0],[1, 0, 1], [0, 1, 0]])\n",
    "sy  = 1/sqrt(2)/i*np.array([[0, 1, 0], [-1, 0, 1],[0, -1, 0]])\n",
    "sz  = np.array([[1, 0, 0], [0, 0, 0], [0, 0, -1]])\n",
    "#sz  = [1, 0, 0; 0, -1, 0; 0, 0, 0]\n",
    "I   = np.array([[1, 0, 0], [0, 1, 0], [0, 0, 1]])\n",
    "\n",
    "# Rotation matrix projected into 2 level system\n",
    "Sxp  = np.array([[0, 1, 0], [1, 0, 0], [0, 0, 0]])\n",
    "Sxm  = np.array([[0, 0, 0], [0, 0, 1], [0, 1, 0]])\n",
    "Syp  = 1/i*np.array([[0, 1, 0], [-1, 0, 0], [0, 0, 0]])\n",
    "Sym  = 1/i*np.array([[0, 0, 0], [0, 0, 1], [0, -1, 0]])\n",
    "Szp  = np.array([[1, 0, 0], [0, -1, 0], [0, 0, 0]])\n",
    "\n",
    "#Gellman matrix\n",
    "Sx  = np.array([[0, 0, 1],[0, 0, 0], [1, 0, 0]])\n",
    "Sy  = np.array([[0, 0, -i],[0, 0, 0], [i, 0, 0]])\n",
    "Sz  = np.array([[1, 0, 0],[0, 0, 0], [0, 0, -1]])\n",
    "\n",
    "# Pauli basis for 13C nuclear spin\n",
    "Ix  = 1/2*np.array([[0, 0, 1], [0, 0, 0], [1, 0, 0]])   \n",
    "Iy  = 1/2/i*np.array([[0, 0, 1], [0, 0, 0], [-1, 0, 0]])\n",
    "Iz  = np.array([[1, 0, 0], [0, 0, 0], [0, 0, -1]])"
   ]
  },
  {
   "cell_type": "code",
   "execution_count": 76,
   "metadata": {},
   "outputs": [],
   "source": [
    "## Define sweep parameters\n",
    "Sweep = 1001\n",
    "N = Sweep\n",
    "B = 403 #[G] magnetic field\n",
    "\n",
    "T = 5; # sweep tau [us]\n",
    "t = np.linspace(0,T,N)\n",
    "n = 32; # number of pi pulses\n",
    "\n",
    "## Define gate operations\n",
    "# Single Q ms=+1\n",
    "U090xp = UO(1,0,pi/4,0,0)\n",
    "U090xmp = UO(1,0,-pi/4,0,0)\n",
    "U090yp = UO(1,0,pi/4,pi/2,0)\n",
    "U090ymp = UO(1,0,-pi/4,pi/2,0)\n",
    "U180xp = UO(1,0,pi/2,0,0)\n",
    "U180xmp = UO(1,0,-pi/2,0,0)\n",
    "\n",
    "#Single Q ms=-1\n",
    "U090xm = UO(0,1,pi/4,0,0)\n",
    "U090xmm = UO(0,1,-pi/4,0,0)\n",
    "U180xm = UO(0,1,pi/2,0,0)\n",
    "U180xmm = UO(0,1,pi/2,0,0)"
   ]
  },
  {
   "cell_type": "code",
   "execution_count": 77,
   "metadata": {},
   "outputs": [],
   "source": [
    "# Define initial state of the system\n",
    "\n",
    "irho_p = np.array([[1,0,0],[0,0,0],[0,0,0]]) #[0,0,0;0,0,0]\n",
    "\n",
    "irho_m = np.array([[0,0,0],[0,0,0],[0,0,1]]) #[0,0,0;0,0,1]\n",
    "\n",
    "irho_z = np.array([[0,0,0],[0,1,0],[0,0,0]]) #[0,1,0;0,0,0]\n",
    "\n",
    "irho_mix = np.array([[1/2,0,0],[0,1/2,0],[0,0,0]]) #[1/2,0,0;0,1/2,0;0,0,0]\n",
    "\n",
    "irho_Z = np.array([[0,0,0],[0,0,0],[0,0,1]]) #target state\n",
    "\n",
    "irho_MIX = np.array([[1/2,0,0],[0,0,0],[0,0,1/2]])\n",
    "\n",
    "irho = np.kron(irho_z,irho_MIX) #initial state\n",
    "trace = [1, 1, 0, 100] # trace of the X, Y, Z, and total density matrices"
   ]
  },
  {
   "cell_type": "code",
   "execution_count": 78,
   "metadata": {},
   "outputs": [],
   "source": [
    "def state_fidelity(rho_1, rho_2): #fidelity\n",
    "    if np.shape(rho_1) != np.shape(rho_2):\n",
    "        print(\"Dimensions of two states do not match.\")\n",
    "        return 0\n",
    "    else:\n",
    "        sqrt_rho_1 = fractional_matrix_power(rho_1, 1 / 2)\n",
    "        fidelity = np.trace(fractional_matrix_power(sqrt_rho_1 @ rho_2 @ sqrt_rho_1, 1 / 2)) ** 2\n",
    "        return np.real(fidelity)"
   ]
  },
  {
   "cell_type": "code",
   "execution_count": 79,
   "metadata": {},
   "outputs": [],
   "source": [
    "pip = []"
   ]
  },
  {
   "cell_type": "code",
   "execution_count": 80,
   "metadata": {},
   "outputs": [],
   "source": [
    "# global tuples = []\n",
    "def problem(vari): \n",
    "    #for e Ry(pi/2)\n",
    "\n",
    "    # rho1 = np.kron(U090yp,I)@irho@(np.kron(U090yp,I).conj().T)                              # Ry 90도\n",
    "\n",
    "    U_e2=(U_H.conj().T)@(linalg.expm(-i*E* vari[0]/2)@U_H)                                  # for tau/2\n",
    "    U_e=(U_H.conj().T)@(linalg.expm(-i*E* vari[0])@U_H)                                     # for tau\n",
    "    rho1 = U_e2@irho@(U_e2.conj().T)\n",
    "    for k in range(1,2*math.trunc(vari[1])):                                                # N과 tau를 N개 생성\n",
    "        rho1 = U_e@np.kron(U180xp,I) @ rho1 @ (np.kron(U180xp,I).conj().T) @ (U_e.conj().T) # N & tau\n",
    "    rho2 = U_e2 @ np.kron(U180xp,I) @ rho1 @ (np.kron(U180xp,I).conj().T) @ (U_e2.conj().T) # last N & tau/2\n",
    "\n",
    "    # projection&trace\n",
    "    xob = (np.trace(Sxp@partial_trace(rho2,2))).real # for e spin\n",
    "    yob = (np.trace(Syp@partial_trace(rho2,2))).real \n",
    "    zob = (np.trace(Szp@partial_trace(rho2,2))).real\n",
    "\n",
    "    xx = (np.trace(Ix@partial_trace(rho2,1))).real # for N spin\n",
    "    yy = (np.trace(Iy@partial_trace(rho2,1))).real\n",
    "    zz = (np.trace(Iz@partial_trace(rho2,1))).real\n",
    "    \n",
    "    cost = 1 - state_fidelity(irho_Z, partial_trace(rho2, 1))\n",
    "    \n",
    "    # cost2 = 2 * vari[0] * vari[1] + vari[2] * vari[3]\n",
    "    \n",
    "    if cost < 0.01:\n",
    "        bbb[0] = vari[0]\n",
    "        bbb[1] = vari[1]\n",
    "\n",
    "    \n",
    "    temp = [cost, vari[0], vari[1]]\n",
    "    # tuples.append((cost, vari[0], vari[1], vari[2], vari[3]))\n",
    "    pip.append(temp)\n",
    "    return cost\n"
   ]
  },
  {
   "cell_type": "code",
   "execution_count": 81,
   "metadata": {},
   "outputs": [],
   "source": [
    "aa = []\n",
    "bb = []\n",
    "cc = []\n",
    "dd = []\n",
    "trace = [1, 1, 0, 100, 100, 1000, 100]\n",
    "vvv = [0, 0, 0, 0]\n",
    "bbb = [0, 0, 0, 0]\n",
    "normalxyz = [0, 0, 0]\n",
    "xx=0\n",
    "yy=0\n",
    "zz=0"
   ]
  },
  {
   "cell_type": "code",
   "execution_count": 82,
   "metadata": {},
   "outputs": [
    {
     "name": "stderr",
     "output_type": "stream",
     "text": [
      "100%|██████████| 1/1 [00:09<00:00,  9.42s/it]\n"
     ]
    }
   ],
   "source": [
    "for ccc in tqdm(range(1)): # range 번의 실험을 진행한다.\n",
    "    start = time.time()\n",
    "    #for making 13C nuclear random dataset\n",
    "    gammaN = 2*pi*1.071e-3 #[MHz/G]\n",
    "    Al    = 2*pi * random.uniform(0.05, 0.8) #[MHz] # A_|| hyperfine term\n",
    "    Ap = 2*pi* random.uniform(0.05, 0.3) #[MHz] # A_per hyperfine term\n",
    "\n",
    "    #Initialization\n",
    "    rho_0 = (np.kron(U090xp,I))@irho@((np.kron(U090xp,I)).conj().T) # superposition state on NV\n",
    "\n",
    "    Sa= []\n",
    "\n",
    "    ham = Al*np.kron(sz,Iz) + Ap*np.kron(sz,Ix) + B*gammaN*np.kron(I,Iz) # Hamiltonian\n",
    "    eigvals = np.linalg.eigh(ham)[0]            # diagonalizing the Hamiltonian 여기서부터 문제 \n",
    "    eigvecs = -1*np.linalg.eigh(ham)[1]         # eigenvectors\n",
    "    E = np.diag(eigvals)                        # exponent of eigenvalues\n",
    "    U_H= eigvecs.conj().T                       # unitary matrix formed by eigenvectors\n",
    "\n",
    "    #결과들을 저장할 list 생성\n",
    "    \n",
    "\n",
    "    tol = 1e-8 #tolerance\n",
    "\n",
    "    for p in range(1): # 1번의 실험을 진행한다.(지역 최적화 알고리즘을 사용할 경우에 수정한다.)\n",
    "        vari=[0, 1]  #초기값\n",
    "        bounds = [(0, 4 * pi),(1.0,50.0)] #boundary\n",
    "        \n",
    "        res4 = optimize.shgo(problem,bounds=bounds,iters=6,options={'xtol':1e-15,'ftol':1e-17}) #SHGO method\n",
    "        res4['x'][1] = round(res4['x'][1]) #rounding\n",
    "        # res4['x'][3] = round(res4['x'][3]) #rounding\n",
    "        dd.append([Al, Ap, trace[6], bbb[0], bbb[1], normalxyz[0], normalxyz[1], normalxyz[2], res4['nfev']])   "
   ]
  },
  {
   "cell_type": "code",
   "execution_count": 83,
   "metadata": {},
   "outputs": [
    {
     "name": "stdout",
     "output_type": "stream",
     "text": [
      "2023-06-21 21:44:02.199455\n",
      "\n"
     ]
    },
    {
     "data": {
      "text/plain": [
       "1"
      ]
     },
     "execution_count": 83,
     "metadata": {},
     "output_type": "execute_result"
    }
   ],
   "source": [
    "date = dt.now()\n",
    "printdate = date.strftime('%Y%m%d_%H%M%S')\n",
    "print(date)\n",
    "\n",
    "df4 = pd.DataFrame(dd) \n",
    "# df4.rename(columns={0:\"Al\", 1:\"Ap\", 2: \"cost\", 3: \"Xtau\", 4: \"XN\", 5: \"Ztau\", 6: \"ZN\", 7: \"xx\", 8: \"yy\", 9: \"zz\", 10: \"fev\"}, inplace=True)\n",
    "df4.to_csv('C:/Users/Administrator/git_zorocrit/qhackathon-2023/data/' + printdate + '_compare.csv',index=False)\n",
    "\n",
    "dif = pd.DataFrame(pip)\n",
    "dif.rename(columns={0: \"cost\", 1: \"Xtau\", 2: \"XN\", 3: \"Ztau\", 4: \"ZN\"})\n",
    "dif.to_csv('C:/Users/Administrator/git_zorocrit/qhackathon-2023/data/' + printdate + 'dataset.csv',index=False)\n",
    "\n",
    "stdout.write(\"\\n\")"
   ]
  }
 ],
 "metadata": {
  "kernelspec": {
   "display_name": "Python 3",
   "language": "python",
   "name": "python3"
  },
  "language_info": {
   "codemirror_mode": {
    "name": "ipython",
    "version": 3
   },
   "file_extension": ".py",
   "mimetype": "text/x-python",
   "name": "python",
   "nbconvert_exporter": "python",
   "pygments_lexer": "ipython3",
   "version": "3.11.1"
  },
  "orig_nbformat": 4
 },
 "nbformat": 4,
 "nbformat_minor": 2
}
